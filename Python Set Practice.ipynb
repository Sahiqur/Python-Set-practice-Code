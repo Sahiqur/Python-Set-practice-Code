{
 "cells": [
  {
   "cell_type": "code",
   "execution_count": 1,
   "id": "3052de7c",
   "metadata": {},
   "outputs": [
    {
     "data": {
      "text/plain": [
       "{'Aslam', 'Robin', 'Sahiq', 'Tanim'}"
      ]
     },
     "execution_count": 1,
     "metadata": {},
     "output_type": "execute_result"
    }
   ],
   "source": [
    "txt={\"Sahiq\",\"Robin\",\"Tanim\",\"Aslam\"}\n",
    "txt"
   ]
  },
  {
   "cell_type": "code",
   "execution_count": 2,
   "id": "9412f9b3",
   "metadata": {},
   "outputs": [
    {
     "data": {
      "text/plain": [
       "set"
      ]
     },
     "execution_count": 2,
     "metadata": {},
     "output_type": "execute_result"
    }
   ],
   "source": [
    "type(txt)"
   ]
  },
  {
   "cell_type": "code",
   "execution_count": 7,
   "id": "d154bfcd",
   "metadata": {},
   "outputs": [
    {
     "data": {
      "text/plain": [
       "{'Aslam', 'Robin', 'Sahiq', 'Tanim'}"
      ]
     },
     "execution_count": 7,
     "metadata": {},
     "output_type": "execute_result"
    }
   ],
   "source": [
    "txt={\"Sahiq\",\"Robin\",\"Tanim\",\"Aslam\",\"Aslam\"}\n",
    "txt"
   ]
  },
  {
   "cell_type": "code",
   "execution_count": 9,
   "id": "504b0113",
   "metadata": {},
   "outputs": [
    {
     "data": {
      "text/plain": [
       "{'Aslam', 'Robin', 'Sahiq', 'Tanim'}"
      ]
     },
     "execution_count": 9,
     "metadata": {},
     "output_type": "execute_result"
    }
   ],
   "source": [
    "txt={\"Sahiq\",\"Robin\",\"Tanim\",\"Aslam\",\"Aslam\"}\n",
    "txt"
   ]
  },
  {
   "cell_type": "code",
   "execution_count": 10,
   "id": "d4ad1cf5",
   "metadata": {},
   "outputs": [
    {
     "data": {
      "text/plain": [
       "4"
      ]
     },
     "execution_count": 10,
     "metadata": {},
     "output_type": "execute_result"
    }
   ],
   "source": [
    "len(txt)"
   ]
  },
  {
   "cell_type": "code",
   "execution_count": 13,
   "id": "d63a2c2a",
   "metadata": {},
   "outputs": [
    {
     "name": "stdout",
     "output_type": "stream",
     "text": [
      "Tanim\n",
      "Sahiq\n",
      "Robin\n",
      "Aslam\n"
     ]
    }
   ],
   "source": [
    "txt={\"Sahiq\",\"Robin\",\"Tanim\",\"Aslam\",\"Aslam\"}\n",
    "for x in txt:\n",
    "    print(x)"
   ]
  },
  {
   "cell_type": "code",
   "execution_count": 15,
   "id": "236dda05",
   "metadata": {},
   "outputs": [
    {
     "data": {
      "text/plain": [
       "{'Abir Ahammad', 'Aslam', 'Robin', 'Sahiq', 'Tanim'}"
      ]
     },
     "execution_count": 15,
     "metadata": {},
     "output_type": "execute_result"
    }
   ],
   "source": [
    "txt={\"Sahiq\",\"Robin\",\"Tanim\",\"Aslam\"}\n",
    "txt.add(\"Abir Ahammad\")\n",
    "txt"
   ]
  },
  {
   "cell_type": "code",
   "execution_count": 16,
   "id": "92f15d1d",
   "metadata": {},
   "outputs": [
    {
     "data": {
      "text/plain": [
       "{1, 2, 3, 4, 5, 6, 7, 8, 'Aslam', 'Robin', 'Sahiq', 'Tanim'}"
      ]
     },
     "execution_count": 16,
     "metadata": {},
     "output_type": "execute_result"
    }
   ],
   "source": [
    "txt={\"Sahiq\",\"Robin\",\"Tanim\",\"Aslam\"}\n",
    "txt1={1,2,3,4,5,6,7,8}\n",
    "txt.update(txt1)\n",
    "txt"
   ]
  },
  {
   "cell_type": "code",
   "execution_count": 17,
   "id": "412939af",
   "metadata": {},
   "outputs": [
    {
     "data": {
      "text/plain": [
       "{1, 2, 3, 4, 5, 6, 7, 8, 'Aslam', 'Robin', 'Sahiq', 'Tanim'}"
      ]
     },
     "execution_count": 17,
     "metadata": {},
     "output_type": "execute_result"
    }
   ],
   "source": [
    "txt1.update(txt)\n",
    "txt1"
   ]
  },
  {
   "cell_type": "code",
   "execution_count": 18,
   "id": "a5231d91",
   "metadata": {},
   "outputs": [
    {
     "data": {
      "text/plain": [
       "{'Aslam', 'Robin', 'Tanim'}"
      ]
     },
     "execution_count": 18,
     "metadata": {},
     "output_type": "execute_result"
    }
   ],
   "source": [
    "txt={\"Sahiq\",\"Robin\",\"Tanim\",\"Aslam\"}\n",
    "txt.remove(\"Sahiq\")\n",
    "txt"
   ]
  },
  {
   "cell_type": "code",
   "execution_count": 19,
   "id": "4fe85da6",
   "metadata": {},
   "outputs": [
    {
     "data": {
      "text/plain": [
       "set()"
      ]
     },
     "execution_count": 19,
     "metadata": {},
     "output_type": "execute_result"
    }
   ],
   "source": [
    "txt={\"Sahiq\",\"Robin\",\"Tanim\",\"Aslam\"}\n",
    "txt.clear()\n",
    "txt"
   ]
  },
  {
   "cell_type": "code",
   "execution_count": 20,
   "id": "46fa430a",
   "metadata": {},
   "outputs": [
    {
     "name": "stdout",
     "output_type": "stream",
     "text": [
      "Tanim\n",
      "Sahiq\n",
      "Robin\n",
      "Aslam\n"
     ]
    }
   ],
   "source": [
    "txt={\"Sahiq\",\"Robin\",\"Tanim\",\"Aslam\"}\n",
    "for x in txt:\n",
    "    print(x)"
   ]
  },
  {
   "cell_type": "code",
   "execution_count": 22,
   "id": "2cd4001d",
   "metadata": {},
   "outputs": [
    {
     "name": "stdout",
     "output_type": "stream",
     "text": [
      "He is Regular Student in Our University...!!!\n"
     ]
    }
   ],
   "source": [
    "txt={\"Sahiq\",\"Robin\",\"Tanim\",\"Aslam\"}\n",
    "for x in txt:\n",
    "    if \"Sahiq\" in x:\n",
    "         print(\"He is Regular Student in Our University...!!!\")"
   ]
  },
  {
   "cell_type": "code",
   "execution_count": 23,
   "id": "ed242838",
   "metadata": {},
   "outputs": [
    {
     "data": {
      "text/plain": [
       "{1, 2, 3, 4, 5, 6, 7, 8}"
      ]
     },
     "execution_count": 23,
     "metadata": {},
     "output_type": "execute_result"
    }
   ],
   "source": [
    "a={1,2,3,4}\n",
    "b={5,6,7,8,2}\n",
    "a.union(b)\n"
   ]
  },
  {
   "cell_type": "code",
   "execution_count": 25,
   "id": "93590fab",
   "metadata": {},
   "outputs": [
    {
     "data": {
      "text/plain": [
       "{1, 2, 3, 4, 5, 6, 7, 8}"
      ]
     },
     "execution_count": 25,
     "metadata": {},
     "output_type": "execute_result"
    }
   ],
   "source": [
    "a.update(b)\n",
    "a"
   ]
  },
  {
   "cell_type": "code",
   "execution_count": 31,
   "id": "e42f733a",
   "metadata": {},
   "outputs": [
    {
     "data": {
      "text/plain": [
       "{2}"
      ]
     },
     "execution_count": 31,
     "metadata": {},
     "output_type": "execute_result"
    }
   ],
   "source": [
    "a={1,2,3,4}\n",
    "b={5,6,7,8,2}\n",
    "a.intersection_update(b)\n",
    "a"
   ]
  },
  {
   "cell_type": "code",
   "execution_count": 32,
   "id": "7f238132",
   "metadata": {},
   "outputs": [
    {
     "data": {
      "text/plain": [
       "{2}"
      ]
     },
     "execution_count": 32,
     "metadata": {},
     "output_type": "execute_result"
    }
   ],
   "source": [
    "a={1,2,3,4}\n",
    "b={5,6,7,8,2}\n",
    "a.intersection(b)"
   ]
  },
  {
   "cell_type": "code",
   "execution_count": 34,
   "id": "ef450d05",
   "metadata": {},
   "outputs": [
    {
     "data": {
      "text/plain": [
       "{1, 2, 3, 4, 5}"
      ]
     },
     "execution_count": 34,
     "metadata": {},
     "output_type": "execute_result"
    }
   ],
   "source": [
    "a={1,2,3,4}\n",
    "a.add(5)\n",
    "a"
   ]
  },
  {
   "cell_type": "code",
   "execution_count": 36,
   "id": "3c77fa71",
   "metadata": {},
   "outputs": [
    {
     "data": {
      "text/plain": [
       "set()"
      ]
     },
     "execution_count": 36,
     "metadata": {},
     "output_type": "execute_result"
    }
   ],
   "source": [
    "a={1,2,3,4}\n",
    "a.clear()\n",
    "a"
   ]
  },
  {
   "cell_type": "code",
   "execution_count": 1,
   "id": "2a94b70f",
   "metadata": {},
   "outputs": [
    {
     "data": {
      "text/plain": [
       "{1, 3, 4}"
      ]
     },
     "execution_count": 1,
     "metadata": {},
     "output_type": "execute_result"
    }
   ],
   "source": [
    "a={1,2,3,4}\n",
    "b={5,6,7,8,2}\n",
    "a.difference(b)"
   ]
  },
  {
   "cell_type": "code",
   "execution_count": 2,
   "id": "fb549174",
   "metadata": {},
   "outputs": [
    {
     "data": {
      "text/plain": [
       "{5, 6, 7, 8}"
      ]
     },
     "execution_count": 2,
     "metadata": {},
     "output_type": "execute_result"
    }
   ],
   "source": [
    "b.difference(a)"
   ]
  },
  {
   "cell_type": "code",
   "execution_count": null,
   "id": "365d21a5",
   "metadata": {},
   "outputs": [],
   "source": []
  }
 ],
 "metadata": {
  "kernelspec": {
   "display_name": "Python 3 (ipykernel)",
   "language": "python",
   "name": "python3"
  },
  "language_info": {
   "codemirror_mode": {
    "name": "ipython",
    "version": 3
   },
   "file_extension": ".py",
   "mimetype": "text/x-python",
   "name": "python",
   "nbconvert_exporter": "python",
   "pygments_lexer": "ipython3",
   "version": "3.11.5"
  }
 },
 "nbformat": 4,
 "nbformat_minor": 5
}
